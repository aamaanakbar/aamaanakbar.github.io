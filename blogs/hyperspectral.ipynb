{
 "cells": [
  {
   "cell_type": "markdown",
   "metadata": {},
   "source": [
    "---\n",
    "title: \"Hyperspectral images analysis.\"\n",
    "author:\n",
    "    name: Akbar Ali\n",
    "    url: https://aamaangit.github.io/\n",
    "date: \"July 12, 2023\"\n",
    "categories: [\"Machine Learning\", \"Optimisation\"]\n",
    "---"
   ]
  },
  {
   "cell_type": "markdown",
   "metadata": {},
   "source": []
  }
 ],
 "metadata": {
  "language_info": {
   "name": "python"
  },
  "orig_nbformat": 4
 },
 "nbformat": 4,
 "nbformat_minor": 2
}
